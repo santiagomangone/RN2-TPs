{
  "nbformat": 4,
  "nbformat_minor": 0,
  "metadata": {
    "colab": {
      "provenance": [],
      "authorship_tag": "ABX9TyNdMUpBztATQz7+MGqD3x4f",
      "include_colab_link": true
    },
    "kernelspec": {
      "name": "python3",
      "display_name": "Python 3"
    },
    "language_info": {
      "name": "python"
    }
  },
  "cells": [
    {
      "cell_type": "markdown",
      "metadata": {
        "id": "view-in-github",
        "colab_type": "text"
      },
      "source": [
        "<a href=\"https://colab.research.google.com/github/santiagomangone/RN2-TPs/blob/main/TP3%20-%20LM/RN2_LM.ipynb\" target=\"_parent\"><img src=\"https://colab.research.google.com/assets/colab-badge.svg\" alt=\"Open In Colab\"/></a>"
      ]
    },
    {
      "cell_type": "markdown",
      "source": [
        "# Trabajo Práctico Redes Neuronales 2 - Language Models\n",
        "El presente trabajo tiene como objetivo el armado de un modelo de lenguaje, probando y comparando diferentes arquitecturas para hacer un analisis sobre la performance de cada uno de ellos"
      ],
      "metadata": {
        "id": "lAKYS95WLc_8"
      }
    },
    {
      "cell_type": "markdown",
      "source": [
        "## Fuentes\n",
        "Las fuentes consultadas en complemento con las clases de la materia serán añadidas en esta celda. A saber, se utilizaron como referencia:\n",
        "\n",
        "Video ilustrativo y muy útil para entender de que va la cosa: [1] https://www.youtube.com/watch?v=ZMudJXhsUpY&list=PLQY2H8rRoyvzDbLUZkbudP-MFQZwNmU4S&index=7\n",
        "\n",
        "\n",
        "Artículos de contexto para la temática de modelos de lenguaje: [2] https://developers.google.com/machine-learning/resources/intro-llms?hl=es-419#:~:text=A%20language%20model%20is%20a,a%20longer%20sequence%20of%20tokens.\n",
        "\n",
        "[3] https://builtin.com/data-science/beginners-guide-language-models\n",
        "\n",
        "Fuente proveída por la catedra para elegir una metrica para evaluar los modelos generativos: [4] https://towardsdatascience.com/how-to-evaluate-text-generation-models-metrics-for-automatic-evaluation-of-nlp-models-e1c251b04ec1\n",
        "\n",
        "\n"
      ],
      "metadata": {
        "id": "5kbBR8h1Lw7x"
      }
    },
    {
      "cell_type": "code",
      "source": [
        "from google.colab import drive\n",
        "drive.mount('/content/drive')"
      ],
      "metadata": {
        "id": "jbbjx9lVSfWh",
        "colab": {
          "base_uri": "https://localhost:8080/"
        },
        "outputId": "c7e97f6a-d99f-4303-db8a-5cfb4c4d30f3"
      },
      "execution_count": 1,
      "outputs": [
        {
          "output_type": "stream",
          "name": "stdout",
          "text": [
            "Mounted at /content/drive\n"
          ]
        }
      ]
    },
    {
      "cell_type": "markdown",
      "source": [
        "## Texto base\n",
        "El texto base elegido para entrenar los modelos es la novela corta de Franz Kafka, \"La Metamorfósis\"\n"
      ],
      "metadata": {
        "id": "Y8LYYT0ANfpy"
      }
    },
    {
      "cell_type": "code",
      "execution_count": 2,
      "metadata": {
        "colab": {
          "base_uri": "https://localhost:8080/",
          "height": 70
        },
        "id": "M8EkOJ1DrBTi",
        "outputId": "c09373d5-ca63-454a-c776-39ddc6a104d8"
      },
      "outputs": [
        {
          "output_type": "execute_result",
          "data": {
            "text/plain": [
              "'< eran las seis y media y las manecillas seguían tranquilamente hacia delante, ya había pasado incluso la media, eran ya casi las menos cuarto. «¿es que no habría sonado el despertador?» desde la cama se veía que estaba correctamente puesto a las cuatro, seguro que también había sonado. sí, pero... ¿era posible seguir durmiendo tan tranquilo con ese ruido que hacía temblar los muebles? bueno, tampoco había dormido tranquilo, pero quizá tanto más profundamente. >'"
            ],
            "application/vnd.google.colaboratory.intrinsic+json": {
              "type": "string"
            }
          },
          "metadata": {},
          "execution_count": 2
        }
      ],
      "source": [
        "#traemos la data, la segmentamos, separamos, preparamos\n",
        "#reverse_dictionary = token.index_word\n",
        "#dictionary = dict([(value, key) for (key, value) in reverse_dictionary.items()])\n",
        "TXTDIR= \"/content/drive/MyDrive/Colab Notebooks/La Metamorfosis.txt\"\n",
        "\n",
        "with open(TXTDIR, 'r') as file:\n",
        "    text = file.read()\n",
        "\n",
        "parrafos = text.lower().split('\\n\\n') # Divido el contenido en parrafos y paso las letras a minúsculas.\n",
        "\n",
        "# Eliminamos enters y agregamos SOS y EOS\n",
        "dataset = [\"< \"+parrafo.strip().replace('\\n', ' ')+\" >\" for parrafo in parrafos if parrafo !=\"\"]\n",
        "dataset[11]\n"
      ]
    },
    {
      "cell_type": "markdown",
      "source": [
        "Pequeño EDA.\n",
        "Como separamos el texto en parrafos que seran las entradas para el entrenamiento de los modelos, es util saber cuantos tenemos y que tan largos suelen ser los parrafos. Además es útil saber con cuantas palabras cuenta nuestra dataset."
      ],
      "metadata": {
        "id": "W3KZTOgh2cUj"
      }
    },
    {
      "cell_type": "code",
      "source": [
        "corpus_size=len(dataset)\n",
        "print(\"Cantidad de parrafos: \",corpus_size)"
      ],
      "metadata": {
        "colab": {
          "base_uri": "https://localhost:8080/"
        },
        "id": "P42_r_aPTwF5",
        "outputId": "592f2a5c-5959-4659-dc13-8351b6895459"
      },
      "execution_count": 3,
      "outputs": [
        {
          "output_type": "stream",
          "name": "stdout",
          "text": [
            "Cantidad de parrafos:  193\n"
          ]
        }
      ]
    },
    {
      "cell_type": "code",
      "source": [
        "import matplotlib.pyplot as plt\n",
        "longitudes = [len(texto.split()) for texto in dataset]\n",
        "\n",
        "bin_edges = plt.hist(longitudes, bins=10, edgecolor='k', alpha=0.7)\n",
        "plt.xticks([50,120,200,300,400,800], ['50','120','200','300','400','800'])\n",
        "\n",
        "plt.title('Longitudes de Parrafos')\n",
        "plt.xlabel('Longitud')\n",
        "plt.ylabel('Frecuencia')\n",
        "plt.show()"
      ],
      "metadata": {
        "colab": {
          "base_uri": "https://localhost:8080/",
          "height": 472
        },
        "id": "tbqLJvcNT-GR",
        "outputId": "bb85adbd-d7a6-48d0-93cc-2745ed911a1b"
      },
      "execution_count": 5,
      "outputs": [
        {
          "output_type": "display_data",
          "data": {
            "text/plain": [
              "<Figure size 640x480 with 1 Axes>"
            ],
            "image/png": "[encoded data removed]"
          },
          "metadata": {}
        }
      ]
    },
    {
      "cell_type": "markdown",
      "source": [
        "# Tokenización"
      ],
      "metadata": {
        "id": "LZScOIcVjTVX"
      }
    },
    {
      "cell_type": "code",
      "source": [
        "#Dividimos las oraciones en palabras\n",
        "words = [word for sentence in dataset for word in sentence.split()]\n",
        "#nos quedamos con las palabras unicas\n",
        "unique_words = set(words)\n",
        "\n",
        "num_words = len(unique_words)\n",
        "\n",
        "print(f\"Cantidad de palabras únicas: {num_words}\")"
      ],
      "metadata": {
        "colab": {
          "base_uri": "https://localhost:8080/"
        },
        "id": "5Yg7zkL7fFpm",
        "outputId": "4cb1917b-22f1-4cc3-a44f-913d3b5df4bc"
      },
      "execution_count": 6,
      "outputs": [
        {
          "output_type": "stream",
          "name": "stdout",
          "text": [
            "Cantidad de palabras únicas: 4660\n"
          ]
        }
      ]
    },
    {
      "cell_type": "code",
      "source": [
        "import numpy as np\n",
        "from keras.preprocessing.text import Tokenizer\n",
        "from tensorflow.keras.utils import plot_model, to_categorical, pad_sequences\n",
        "\n",
        "token=Tokenizer(num_words=num_words, filters='!\"#$%&()*+,-./:;<=>?@[\\\\]^_`{|}~\\t\\n¡-¿»«—', lower=True, split=' ', char_level=False, oov_token=\"UNK\", document_count=0) #Instanciamos el tokenizador\n",
        "token.fit_on_texts(dataset)                                                                                                                                 # y fiteamos a nuestro dataset\n",
        "\n",
        "dictionary = token.index_word\n",
        "vocab_size=len(dictionary)+1\n",
        "print(\"Luego de removidos signos de puntuacion, la cantidad real de palabras a tokenizar es:\", vocab_size)"
      ],
      "metadata": {
        "id": "bkiAdo-weoKi",
        "colab": {
          "base_uri": "https://localhost:8080/"
        },
        "outputId": "e75282c1-292e-4850-bd8b-497dc931a490"
      },
      "execution_count": 7,
      "outputs": [
        {
          "output_type": "stream",
          "name": "stdout",
          "text": [
            "Luego de removidos signos de puntuacion, la cantidad real de palabras a tokenizar es: 3501\n"
          ]
        }
      ]
    },
    {
      "cell_type": "code",
      "source": [
        "dictionary"
      ],
      "metadata": {
        "id": "YewfGlebjHpG"
      },
      "execution_count": null,
      "outputs": []
    },
    {
      "cell_type": "markdown",
      "source": [
        "Genero secuencias para el entrenamiento. Para ello tomo oraciones, las tokenizo, y armo dos listas, una que contenga una oracion menos su ultima palabra y la otra con la palabra que iría a continuación. Esto es similar al caso de tener data con sus respectivos labels. A la vez aprovecho y padeo las secuencias para que tengan el mismo tamaño, y las palabras de salida o labels paso a representarlos como una categoría (one-hot encoding). Con esta idea notamos que para los modelos que se entrenan aqui la dimension de entrada es fija."
      ],
      "metadata": {
        "id": "VvNAMjMukMR-"
      }
    },
    {
      "cell_type": "code",
      "source": [
        "tokenized_seqs = token.texts_to_sequences(dataset)  # Tokenizo los textos\n",
        "max_len=500                                         #Del EDA notamos que los parrafos son de hasta 500 palabras en su gran mayoría, por eso tomamos de tamaño maximo de largo de contexto 500.\n",
        "x_sequences = []\n",
        "y_sequences = []\n",
        "for text in tokenized_seqs:\n",
        "  for i in range(1,len(text)):\n",
        "      x_sequences.append(text[:i])  # Arreglos de entrada\n",
        "      y_sequences.append(text[i])   # Arreglos de salida\n",
        "x_sequences = pad_sequences(x_sequences, maxlen=max_len, padding='pre', truncating='pre')\n",
        "y_sequences = to_categorical(y_sequences, num_classes=len(token.index_word)+1)              #Al usar one-hot, usaremos como loss Categorical-Cross\n",
        "\n"
      ],
      "metadata": {
        "id": "-xqeKZBZknLe"
      },
      "execution_count": 9,
      "outputs": []
    },
    {
      "cell_type": "code",
      "source": [
        "print(x_sequences.shape)\n",
        "print(y_sequences.shape)"
      ],
      "metadata": {
        "colab": {
          "base_uri": "https://localhost:8080/"
        },
        "id": "0IfwMSXv3cEB",
        "outputId": "99d1a51a-fbca-4b6a-a04f-b103c02523c2"
      },
      "execution_count": 37,
      "outputs": [
        {
          "output_type": "stream",
          "name": "stdout",
          "text": [
            "(20612, 500)\n",
            "(20612, 3501)\n"
          ]
        }
      ]
    },
    {
      "cell_type": "code",
      "source": [
        "#Visualizemos una\n",
        "print(\"Para la oracion:\")\n",
        "print(token.sequences_to_texts([x_sequences[13][-6:]])[0])\n",
        "print(\"La siguiente palabra sería:\")\n",
        "print(token.index_word[(np.argmax(y_sequences[13]))])\n"
      ],
      "metadata": {
        "colab": {
          "base_uri": "https://localhost:8080/"
        },
        "id": "WfQDVvMfm7Gt",
        "outputId": "86a19fbe-ab4e-47be-8fa7-f2bb251dbf05"
      },
      "execution_count": 10,
      "outputs": [
        {
          "output_type": "stream",
          "name": "stdout",
          "text": [
            "Para la oracion:\n",
            "después de un sueño intranquilo se\n",
            "La siguiente palabra sería:\n",
            "encontró\n"
          ]
        }
      ]
    },
    {
      "cell_type": "markdown",
      "source": [
        "## Cargamos embeddings pre entrenados\n",
        "Cargamos los embeddings que provee fasttext para el idioma español"
      ],
      "metadata": {
        "id": "5ksUdBt0npOn"
      }
    },
    {
      "cell_type": "code",
      "source": [
        "import codecs\n",
        "#load embeddings\n",
        "EMBEDDING_DIR = \"/content/drive/MyDrive/Colab Notebooks/\"\n",
        "print('loading word embeddings...')\n",
        "embeddings_index = {}\n",
        "f = codecs.open(EMBEDDING_DIR+'cc.es.300.vec', encoding='utf-8')\n",
        "for line in f:\n",
        "    values = line.rstrip().rsplit(' ')\n",
        "    word = values[0]\n",
        "    coefs = np.asarray(values[1:], dtype='float32')\n",
        "    embeddings_index[word] = coefs\n",
        "f.close()\n",
        "print('found %s word vectors' % len(embeddings_index))"
      ],
      "metadata": {
        "colab": {
          "base_uri": "https://localhost:8080/"
        },
        "id": "45K4SMsVjb8t",
        "outputId": "ccb918f9-04a7-414c-da67-5b5a19af84e8"
      },
      "execution_count": 11,
      "outputs": [
        {
          "output_type": "stream",
          "name": "stdout",
          "text": [
            "loading word embeddings...\n",
            "found 2000000 word vectors\n"
          ]
        }
      ]
    },
    {
      "cell_type": "markdown",
      "source": [
        "Teniendo los embeddings para las 2M de palabras, ahora procedemos a armar nuestra matriz de embeddings, es decir, nos quedamos con las palabras que figuran en nuestro texto y les damos sus significados semánticos extraidos segun fastText.\n",
        "\n",
        "Mas info sobre estos en: https://fasttext.cc/docs/en/crawl-vectors.html"
      ],
      "metadata": {
        "id": "cqljZcea3b_6"
      }
    },
    {
      "cell_type": "code",
      "source": [
        "embed_dim = 300\n",
        "embedding_matrix = np.zeros([vocab_size, embed_dim])\n",
        "for idx, word in dictionary.items():\n",
        "    if idx < vocab_size and word in embeddings_index:\n",
        "        embedding_matrix[idx,:] = embeddings_index[word]"
      ],
      "metadata": {
        "id": "Lte09MKT2NJy"
      },
      "execution_count": 12,
      "outputs": []
    },
    {
      "cell_type": "markdown",
      "source": [
        "# Métricas\n",
        "En cuanto a las metricas de evaluación mas relevantes para el analisis de performance se consideraron las mencionadas en la fuente referenciada mas arriba, a saber:\n",
        "\n",
        "Consultando con otros grupos se decidió utilizar la metrica de perplejidad, la cual conceptualmente tiene mucho sentido ya que plantea alimentar al modelo con oraciones reales propias del set de datos y promediar las probabilidades de que acierte correctamente la \"respuesta correcta\", en este caso la siguiente palabra"
      ],
      "metadata": {
        "id": "sTKQO7iP9uql"
      }
    },
    {
      "cell_type": "code",
      "source": [
        "def perplexity(model, x_sequences, y_indices, nwords, embedding_matrix):\n",
        "    perp = np.array([])\n",
        "\n",
        "    for i in range(len(x_sequences)):\n",
        "        x_seq = x_sequences[i]\n",
        "        y_idx = y_indices[i]\n",
        "\n",
        "        predicted_probs = model.predict(np.array([x_seq]), verbose=0)[0]\n",
        "\n",
        "        word_prob = predicted_probs[y_idx]\n",
        "\n",
        "        #sequence_perplexity = 2 ** (-np.log2(word_prob))\n",
        "        sequence_perplexity = 1 / word_prob\n",
        "        perp = np.append(perp, sequence_perplexity)\n",
        "\n",
        "    mean_perplexity = np.mean(perp)\n",
        "\n",
        "    return mean_perplexity"
      ],
      "metadata": {
        "id": "FJbHtg3XpvIV"
      },
      "execution_count": 13,
      "outputs": []
    },
    {
      "cell_type": "markdown",
      "source": [
        "# Modelos\n",
        "Con los datos listos, estamos en condiciones de definir nuestros modelos"
      ],
      "metadata": {
        "id": "u2mQzp5h02zM"
      }
    },
    {
      "cell_type": "code",
      "source": [
        "import tensorflow as tf\n",
        "from tensorflow import keras\n",
        "from keras.layers import Embedding, Conv1D, MaxPooling1D, BatchNormalization, GlobalMaxPooling1D, Dropout, Dense, Lambda, MaxPooling1D, Input, Concatenate, SimpleRNN, Dot, RepeatVector, TimeDistributed, Multiply, Lambda, Flatten, Activation, GRU, Reshape, Bidirectional, LSTM\n",
        "from keras.layers import Input, Concatenate, Dot, RepeatVector, TimeDistributed, Multiply\n",
        "from keras.layers import Bidirectional, LSTM, Activation, Reshape, Lambda, Dropout, GRU\n",
        "from keras.models import Sequential, Model\n",
        "from keras import optimizers\n",
        "from keras.callbacks import EarlyStopping, LearningRateScheduler, ReduceLROnPlateau\n",
        "from keras.activations import softmax\n",
        "import keras.backend as K\n",
        "from keras.utils import plot_model\n",
        "\n",
        "def softMaxOverTime(x):\n",
        "    return tf.keras.activations.softmax(x,axis=1)"
      ],
      "metadata": {
        "id": "9Ks1HrAD1LpK"
      },
      "execution_count": 28,
      "outputs": []
    },
    {
      "cell_type": "markdown",
      "source": [
        "### a) LSTM"
      ],
      "metadata": {
        "id": "zHbP76SB05GD"
      }
    },
    {
      "cell_type": "code",
      "source": [
        "LSTM_dim=100\n",
        "#vocab_size =3k+ =Cantidad de palabras en mi vocabulario\n",
        "#Max_len = 500, tamaño del contexto\n",
        "embed_dim = 300\n",
        "\n",
        "\n",
        "input_layer = Input(shape=(max_len,))\n",
        "embedding_layer = Embedding(vocab_size, embed_dim, weights=[embedding_matrix], input_length=max_len, trainable=False)(input_layer)\n",
        "#LSTM\n",
        "lstm_out = Bidirectional(LSTM(LSTM_dim, return_sequences=True, activation=\"tanh\"), merge_mode=\"sum\")(embedding_layer)\n",
        "ulog_attention = Dense(1, activation=\"linear\")(lstm_out)\n",
        "\n",
        "attention=Activation(softMaxOverTime)(ulog_attention)\n",
        "repeated_attention = TimeDistributed(RepeatVector(LSTM_dim))(attention)\n",
        "repeated_attention = Reshape([max_len, LSTM_dim])(repeated_attention)\n",
        "\n",
        "weighted_embeddings = Multiply()([repeated_attention, lstm_out])\n",
        "embedding_sum = Lambda(lambda x: K.sum(x, axis=1))(weighted_embeddings)\n",
        "\n",
        "dense1 = Dense(256, activation='relu')(embedding_sum)\n",
        "dense2 = Dense(128, activation='relu')(dense1)\n",
        "dense_out = Dense(vocab_size, activation='softmax')(dense2)              #Elige entre las 3k palabras posibles\n",
        "\n",
        "modelLSTM = Model(input_layer, dense_out)\n",
        "adam = optimizers.Adam(learning_rate=0.01)\n",
        "modelLSTM.compile(loss='categorical_crossentropy',\n",
        "              optimizer=adam,\n",
        "              metrics=['categorical_crossentropy'])\n",
        "modelLSTM.summary()"
      ],
      "metadata": {
        "id": "7eogvSR61bYy",
        "colab": {
          "base_uri": "https://localhost:8080/"
        },
        "outputId": "e511d009-11c6-400b-d175-5774c814e413"
      },
      "execution_count": 56,
      "outputs": [
        {
          "output_type": "stream",
          "name": "stdout",
          "text": [
            "Model: \"model_7\"\n",
            "__________________________________________________________________________________________________\n",
            " Layer (type)                Output Shape                 Param #   Connected to                  \n",
            "==================================================================================================\n",
            " input_16 (InputLayer)       [(None, 500)]                0         []                            \n",
            "                                                                                                  \n",
            " embedding_13 (Embedding)    (None, 500, 300)             1050300   ['input_16[0][0]']            \n",
            "                                                                                                  \n",
            " bidirectional_11 (Bidirect  (None, 500, 100)             320800    ['embedding_13[0][0]']        \n",
            " ional)                                                                                           \n",
            "                                                                                                  \n",
            " dense_34 (Dense)            (None, 500, 1)               101       ['bidirectional_11[0][0]']    \n",
            "                                                                                                  \n",
            " activation_13 (Activation)  (None, 500, 1)               0         ['dense_34[0][0]']            \n",
            "                                                                                                  \n",
            " time_distributed_13 (TimeD  (None, 500, 100, 1)          0         ['activation_13[0][0]']       \n",
            " istributed)                                                                                      \n",
            "                                                                                                  \n",
            " reshape_7 (Reshape)         (None, 500, 100)             0         ['time_distributed_13[0][0]'] \n",
            "                                                                                                  \n",
            " multiply_11 (Multiply)      (None, 500, 100)             0         ['reshape_7[0][0]',           \n",
            "                                                                     'bidirectional_11[0][0]']    \n",
            "                                                                                                  \n",
            " lambda_7 (Lambda)           (None, 100)                  0         ['multiply_11[0][0]']         \n",
            "                                                                                                  \n",
            " dense_35 (Dense)            (None, 256)                  25856     ['lambda_7[0][0]']            \n",
            "                                                                                                  \n",
            " dense_36 (Dense)            (None, 128)                  32896     ['dense_35[0][0]']            \n",
            "                                                                                                  \n",
            " dense_37 (Dense)            (None, 3501)                 451629    ['dense_36[0][0]']            \n",
            "                                                                                                  \n",
            "==================================================================================================\n",
            "Total params: 1881582 (7.18 MB)\n",
            "Trainable params: 831282 (3.17 MB)\n",
            "Non-trainable params: 1050300 (4.01 MB)\n",
            "__________________________________________________________________________________________________\n"
          ]
        }
      ]
    },
    {
      "cell_type": "code",
      "source": [
        "import tensorflow.keras.callbacks as callbacks\n",
        "#Defino callbacks utiles\n",
        "early_cb = callbacks.EarlyStopping(monitor='loss', min_delta=0.01, patience=5,\n",
        "                                   start_from_epoch=12)\n",
        "\n",
        "plateu_cb = tf.keras.callbacks.ReduceLROnPlateau(monitor='loss', factor=0.05,\n",
        "                                          patience=3)\n"
      ],
      "metadata": {
        "id": "fEWZXOLy3W17"
      },
      "execution_count": 57,
      "outputs": []
    },
    {
      "cell_type": "code",
      "source": [
        "hist = modelLSTM.fit(x=x_sequences,y=y_sequences,batch_size=256,epochs=40,validation_split=0.1, callbacks = [early_cb, plateau_cb])"
      ],
      "metadata": {
        "colab": {
          "base_uri": "https://localhost:8080/"
        },
        "id": "TYXvkD9zEquT",
        "outputId": "43f9df3f-4585-488d-8bf1-2f014bf75f87"
      },
      "execution_count": 58,
      "outputs": [
        {
          "output_type": "stream",
          "name": "stdout",
          "text": [
            "Epoch 1/40\n",
            "73/73 [==============================] - 41s 493ms/step - loss: 6.5940 - categorical_crossentropy: 6.5940 - accuracy: 0.0453 - val_loss: 6.5420 - val_categorical_crossentropy: 6.5420 - val_accuracy: 0.0500 - lr: 0.0100\n",
            "Epoch 2/40\n",
            "73/73 [==============================] - 35s 489ms/step - loss: 6.1859 - categorical_crossentropy: 6.1859 - accuracy: 0.0490 - val_loss: 6.4970 - val_categorical_crossentropy: 6.4970 - val_accuracy: 0.0538 - lr: 0.0100\n",
            "Epoch 3/40\n",
            "73/73 [==============================] - 32s 441ms/step - loss: 5.9567 - categorical_crossentropy: 5.9567 - accuracy: 0.0567 - val_loss: 6.4147 - val_categorical_crossentropy: 6.4147 - val_accuracy: 0.0567 - lr: 0.0100\n",
            "Epoch 4/40\n",
            "73/73 [==============================] - 36s 503ms/step - loss: 5.7696 - categorical_crossentropy: 5.7696 - accuracy: 0.0653 - val_loss: 6.3914 - val_categorical_crossentropy: 6.3914 - val_accuracy: 0.0587 - lr: 0.0100\n",
            "Epoch 5/40\n",
            "73/73 [==============================] - 36s 505ms/step - loss: 5.5562 - categorical_crossentropy: 5.5562 - accuracy: 0.0868 - val_loss: 6.2664 - val_categorical_crossentropy: 6.2664 - val_accuracy: 0.0713 - lr: 0.0100\n",
            "Epoch 6/40\n",
            "73/73 [==============================] - 33s 461ms/step - loss: 5.3526 - categorical_crossentropy: 5.3526 - accuracy: 0.0928 - val_loss: 6.2503 - val_categorical_crossentropy: 6.2503 - val_accuracy: 0.0752 - lr: 0.0100\n",
            "Epoch 7/40\n",
            "73/73 [==============================] - 38s 529ms/step - loss: 5.1998 - categorical_crossentropy: 5.1998 - accuracy: 0.1039 - val_loss: 6.1702 - val_categorical_crossentropy: 6.1702 - val_accuracy: 0.0829 - lr: 0.0100\n",
            "Epoch 8/40\n",
            "73/73 [==============================] - 32s 444ms/step - loss: 5.0616 - categorical_crossentropy: 5.0616 - accuracy: 0.1115 - val_loss: 6.3008 - val_categorical_crossentropy: 6.3008 - val_accuracy: 0.0868 - lr: 0.0100\n",
            "Epoch 9/40\n",
            "73/73 [==============================] - 33s 454ms/step - loss: 4.9317 - categorical_crossentropy: 4.9317 - accuracy: 0.1174 - val_loss: 6.3346 - val_categorical_crossentropy: 6.3346 - val_accuracy: 0.0989 - lr: 0.0100\n",
            "Epoch 10/40\n",
            "73/73 [==============================] - 36s 492ms/step - loss: 4.8153 - categorical_crossentropy: 4.8153 - accuracy: 0.1274 - val_loss: 6.4065 - val_categorical_crossentropy: 6.4065 - val_accuracy: 0.1018 - lr: 0.0100\n",
            "Epoch 11/40\n",
            "73/73 [==============================] - 35s 479ms/step - loss: 4.7037 - categorical_crossentropy: 4.7037 - accuracy: 0.1337 - val_loss: 6.4680 - val_categorical_crossentropy: 6.4680 - val_accuracy: 0.1038 - lr: 0.0100\n",
            "Epoch 12/40\n",
            "73/73 [==============================] - 30s 416ms/step - loss: 4.5768 - categorical_crossentropy: 4.5768 - accuracy: 0.1438 - val_loss: 6.6243 - val_categorical_crossentropy: 6.6243 - val_accuracy: 0.1096 - lr: 0.0100\n",
            "Epoch 13/40\n",
            "73/73 [==============================] - 37s 507ms/step - loss: 4.4479 - categorical_crossentropy: 4.4479 - accuracy: 0.1514 - val_loss: 6.8803 - val_categorical_crossentropy: 6.8803 - val_accuracy: 0.1081 - lr: 0.0100\n",
            "Epoch 14/40\n",
            "73/73 [==============================] - 38s 527ms/step - loss: 4.3179 - categorical_crossentropy: 4.3179 - accuracy: 0.1616 - val_loss: 6.9427 - val_categorical_crossentropy: 6.9427 - val_accuracy: 0.1077 - lr: 0.0100\n",
            "Epoch 15/40\n",
            "73/73 [==============================] - 34s 469ms/step - loss: 4.1813 - categorical_crossentropy: 4.1813 - accuracy: 0.1707 - val_loss: 7.2721 - val_categorical_crossentropy: 7.2721 - val_accuracy: 0.1091 - lr: 0.0100\n",
            "Epoch 16/40\n",
            "73/73 [==============================] - 34s 475ms/step - loss: 4.0429 - categorical_crossentropy: 4.0429 - accuracy: 0.1862 - val_loss: 7.3725 - val_categorical_crossentropy: 7.3725 - val_accuracy: 0.1101 - lr: 0.0100\n",
            "Epoch 17/40\n",
            "73/73 [==============================] - 40s 548ms/step - loss: 3.9201 - categorical_crossentropy: 3.9201 - accuracy: 0.1950 - val_loss: 7.7874 - val_categorical_crossentropy: 7.7874 - val_accuracy: 0.1101 - lr: 0.0100\n",
            "Epoch 18/40\n",
            "73/73 [==============================] - 31s 435ms/step - loss: 3.7738 - categorical_crossentropy: 3.7738 - accuracy: 0.2105 - val_loss: 8.0260 - val_categorical_crossentropy: 8.0260 - val_accuracy: 0.1081 - lr: 0.0100\n",
            "Epoch 19/40\n",
            "73/73 [==============================] - 37s 506ms/step - loss: 3.6599 - categorical_crossentropy: 3.6599 - accuracy: 0.2198 - val_loss: 8.4309 - val_categorical_crossentropy: 8.4309 - val_accuracy: 0.1052 - lr: 0.0100\n",
            "Epoch 20/40\n",
            "73/73 [==============================] - 36s 494ms/step - loss: 3.5367 - categorical_crossentropy: 3.5367 - accuracy: 0.2352 - val_loss: 8.6211 - val_categorical_crossentropy: 8.6211 - val_accuracy: 0.0994 - lr: 0.0100\n",
            "Epoch 21/40\n",
            "73/73 [==============================] - 37s 506ms/step - loss: 3.4091 - categorical_crossentropy: 3.4091 - accuracy: 0.2511 - val_loss: 9.1216 - val_categorical_crossentropy: 9.1216 - val_accuracy: 0.1062 - lr: 0.0100\n",
            "Epoch 22/40\n",
            "73/73 [==============================] - 38s 523ms/step - loss: 3.2856 - categorical_crossentropy: 3.2856 - accuracy: 0.2667 - val_loss: 9.5042 - val_categorical_crossentropy: 9.5042 - val_accuracy: 0.0994 - lr: 0.0100\n",
            "Epoch 23/40\n",
            "73/73 [==============================] - 37s 510ms/step - loss: 3.1735 - categorical_crossentropy: 3.1735 - accuracy: 0.2794 - val_loss: 9.8404 - val_categorical_crossentropy: 9.8404 - val_accuracy: 0.0989 - lr: 0.0100\n",
            "Epoch 24/40\n",
            "73/73 [==============================] - 40s 548ms/step - loss: 3.0533 - categorical_crossentropy: 3.0533 - accuracy: 0.3013 - val_loss: 10.1594 - val_categorical_crossentropy: 10.1594 - val_accuracy: 0.0955 - lr: 0.0100\n",
            "Epoch 25/40\n",
            "73/73 [==============================] - 29s 401ms/step - loss: 2.9673 - categorical_crossentropy: 2.9673 - accuracy: 0.3108 - val_loss: 10.4531 - val_categorical_crossentropy: 10.4531 - val_accuracy: 0.0955 - lr: 0.0100\n",
            "Epoch 26/40\n",
            "73/73 [==============================] - 32s 448ms/step - loss: 2.8693 - categorical_crossentropy: 2.8693 - accuracy: 0.3220 - val_loss: 11.2536 - val_categorical_crossentropy: 11.2536 - val_accuracy: 0.0975 - lr: 0.0100\n",
            "Epoch 27/40\n",
            "73/73 [==============================] - 41s 564ms/step - loss: 2.7593 - categorical_crossentropy: 2.7593 - accuracy: 0.3406 - val_loss: 11.6397 - val_categorical_crossentropy: 11.6397 - val_accuracy: 0.0873 - lr: 0.0100\n",
            "Epoch 28/40\n",
            "73/73 [==============================] - 45s 618ms/step - loss: 2.6566 - categorical_crossentropy: 2.6566 - accuracy: 0.3542 - val_loss: 11.8238 - val_categorical_crossentropy: 11.8238 - val_accuracy: 0.0854 - lr: 0.0100\n",
            "Epoch 29/40\n",
            "73/73 [==============================] - 37s 509ms/step - loss: 2.5778 - categorical_crossentropy: 2.5778 - accuracy: 0.3716 - val_loss: 12.4091 - val_categorical_crossentropy: 12.4091 - val_accuracy: 0.0834 - lr: 0.0100\n",
            "Epoch 30/40\n",
            "73/73 [==============================] - 39s 545ms/step - loss: 2.4980 - categorical_crossentropy: 2.4980 - accuracy: 0.3863 - val_loss: 12.6284 - val_categorical_crossentropy: 12.6284 - val_accuracy: 0.0839 - lr: 0.0100\n",
            "Epoch 31/40\n",
            "73/73 [==============================] - 35s 487ms/step - loss: 2.3784 - categorical_crossentropy: 2.3784 - accuracy: 0.4053 - val_loss: 13.3543 - val_categorical_crossentropy: 13.3543 - val_accuracy: 0.0824 - lr: 0.0100\n",
            "Epoch 32/40\n",
            "73/73 [==============================] - 38s 522ms/step - loss: 2.3060 - categorical_crossentropy: 2.3060 - accuracy: 0.4184 - val_loss: 13.7333 - val_categorical_crossentropy: 13.7333 - val_accuracy: 0.0824 - lr: 0.0100\n",
            "Epoch 33/40\n",
            "73/73 [==============================] - 34s 471ms/step - loss: 2.2572 - categorical_crossentropy: 2.2572 - accuracy: 0.4306 - val_loss: 13.5527 - val_categorical_crossentropy: 13.5527 - val_accuracy: 0.0834 - lr: 0.0100\n",
            "Epoch 34/40\n",
            "73/73 [==============================] - 31s 425ms/step - loss: 2.1683 - categorical_crossentropy: 2.1683 - accuracy: 0.4440 - val_loss: 14.2849 - val_categorical_crossentropy: 14.2849 - val_accuracy: 0.0810 - lr: 0.0100\n",
            "Epoch 35/40\n",
            "73/73 [==============================] - 40s 549ms/step - loss: 2.0506 - categorical_crossentropy: 2.0506 - accuracy: 0.4685 - val_loss: 14.5306 - val_categorical_crossentropy: 14.5306 - val_accuracy: 0.0732 - lr: 0.0100\n",
            "Epoch 36/40\n",
            "73/73 [==============================] - 38s 521ms/step - loss: 1.9681 - categorical_crossentropy: 1.9681 - accuracy: 0.4837 - val_loss: 15.2343 - val_categorical_crossentropy: 15.2343 - val_accuracy: 0.0781 - lr: 0.0100\n",
            "Epoch 37/40\n",
            "73/73 [==============================] - 30s 419ms/step - loss: 1.8873 - categorical_crossentropy: 1.8873 - accuracy: 0.4984 - val_loss: 15.9479 - val_categorical_crossentropy: 15.9479 - val_accuracy: 0.0829 - lr: 0.0100\n",
            "Epoch 38/40\n",
            "73/73 [==============================] - 41s 566ms/step - loss: 1.8308 - categorical_crossentropy: 1.8308 - accuracy: 0.5146 - val_loss: 16.4648 - val_categorical_crossentropy: 16.4648 - val_accuracy: 0.0747 - lr: 0.0100\n",
            "Epoch 39/40\n",
            "73/73 [==============================] - 32s 437ms/step - loss: 1.7593 - categorical_crossentropy: 1.7593 - accuracy: 0.5296 - val_loss: 16.7778 - val_categorical_crossentropy: 16.7778 - val_accuracy: 0.0776 - lr: 0.0100\n",
            "Epoch 40/40\n",
            "73/73 [==============================] - 39s 546ms/step - loss: 1.7063 - categorical_crossentropy: 1.7063 - accuracy: 0.5390 - val_loss: 17.2260 - val_categorical_crossentropy: 17.2260 - val_accuracy: 0.0713 - lr: 0.0100\n"
          ]
        }
      ]
    },
    {
      "cell_type": "code",
      "source": [
        "perplexity = perplexity(modelLSTM, x_sequences[:100], y_sequences[:100], vocab_size, embedding_matrix)\n",
        "print(\"Perplejidad del modelo:\", perplexity)"
      ],
      "metadata": {
        "colab": {
          "base_uri": "https://localhost:8080/",
          "height": 193
        },
        "id": "MuAbMCBbp1Rr",
        "outputId": "b9fc52e3-19f4-4a58-b5ac-47e58799dadf"
      },
      "execution_count": 1,
      "outputs": [
        {
          "output_type": "error",
          "ename": "NameError",
          "evalue": "ignored",
          "traceback": [
            "\u001b[0;31m---------------------------------------------------------------------------\u001b[0m",
            "\u001b[0;31mNameError\u001b[0m                                 Traceback (most recent call last)",
            "\u001b[0;32m<ipython-input-1-1c66fbd3b826>\u001b[0m in \u001b[0;36m<cell line: 1>\u001b[0;34m()\u001b[0m\n\u001b[0;32m----> 1\u001b[0;31m \u001b[0mperplexity\u001b[0m \u001b[0;34m=\u001b[0m \u001b[0mperplexity\u001b[0m\u001b[0;34m(\u001b[0m\u001b[0mmodelLSTM\u001b[0m\u001b[0;34m,\u001b[0m \u001b[0mx_sequences\u001b[0m\u001b[0;34m[\u001b[0m\u001b[0;34m:\u001b[0m\u001b[0;36m100\u001b[0m\u001b[0;34m]\u001b[0m\u001b[0;34m,\u001b[0m \u001b[0my_sequences\u001b[0m\u001b[0;34m[\u001b[0m\u001b[0;34m:\u001b[0m\u001b[0;36m100\u001b[0m\u001b[0;34m]\u001b[0m\u001b[0;34m,\u001b[0m \u001b[0mvocab_size\u001b[0m\u001b[0;34m,\u001b[0m \u001b[0membedding_matrix\u001b[0m\u001b[0;34m)\u001b[0m\u001b[0;34m\u001b[0m\u001b[0;34m\u001b[0m\u001b[0m\n\u001b[0m\u001b[1;32m      2\u001b[0m \u001b[0mprint\u001b[0m\u001b[0;34m(\u001b[0m\u001b[0;34m\"Perplejidad del modelo:\"\u001b[0m\u001b[0;34m,\u001b[0m \u001b[0mperplexity\u001b[0m\u001b[0;34m)\u001b[0m\u001b[0;34m\u001b[0m\u001b[0;34m\u001b[0m\u001b[0m\n",
            "\u001b[0;31mNameError\u001b[0m: name 'perplexity' is not defined"
          ]
        }
      ]
    },
    {
      "cell_type": "markdown",
      "source": [
        "### b) CNN"
      ],
      "metadata": {
        "id": "6cKzG1Fr07yS"
      }
    },
    {
      "cell_type": "code",
      "source": [
        "value_dim=100\n",
        "\n",
        "input_layer = Input(shape=(max_len,))\n",
        "embedding_layer = Embedding(vocab_size, embed_dim, weights=[embedding_matrix], input_length=max_len, trainable=False)(input_layer)\n",
        "#CNN\n",
        "cnn_out = (Conv1D(value_dim, kernel_size=3, activation=\"relu\", padding=\"same\"))(embedding_layer)\n",
        "ulog_attention = Dense(1, activation=\"linear\")(cnn_out)\n",
        "attention = Activation(softMaxOverTime)(ulog_attention)\n",
        "repeated_attention = TimeDistributed(RepeatVector(value_dim))(attention)\n",
        "repeated_attention = Reshape([max_len, value_dim])(repeated_attention)\n",
        "weighted_embeddings = Multiply()([repeated_attention, cnn_out])\n",
        "embedding_sum = Lambda(lambda x: K.sum(x, axis=1))(weighted_embeddings)\n",
        "\n",
        "dense1 = Dense(256, activation='relu')(embedding_sum)\n",
        "dense2 = Dense(128, activation='relu')(dense1)\n",
        "dense_out = Dense(vocab_size, activation='softmax')(dense2)              #Elige entre las 3k palabras posibles\n",
        "\n",
        "modelCNN = Model(input_layer, dense2)\n",
        "adam = optimizers.Adam(learning_rate=0.01)\n",
        "modelCNN.compile(loss='categorical_crossentropy',\n",
        "                 optimizer=adam,\n",
        "                 metrics=['categorical_crossentropy'])\n"
      ],
      "metadata": {
        "id": "8HRu2QRx3ysx"
      },
      "execution_count": null,
      "outputs": []
    },
    {
      "cell_type": "code",
      "source": [
        "early_cb = callbacks.EarlyStopping(monitor='loss', min_delta=0.01, patience=5,\n",
        "                                   start_from_epoch=12)\n",
        "\n",
        "plateu_cb = tf.keras.callbacks.ReduceLROnPlateau(monitor='loss', factor=0.05,\n",
        "                                          patience=3)"
      ],
      "metadata": {
        "id": "8st3hgPhZKz4"
      },
      "execution_count": null,
      "outputs": []
    },
    {
      "cell_type": "code",
      "source": [
        "hist = modelCNN.fit(x_sequences,y_sequences,batch_size=256,epochs=40,validation_split=0.1, callbacks = [early_cb, plateau_cb])"
      ],
      "metadata": {
        "id": "vorRmkTRZMmH"
      },
      "execution_count": null,
      "outputs": []
    },
    {
      "cell_type": "code",
      "source": [
        "perplexity = perplexity(modelCNN, x_sequences[:100], y_sequences[:100], vocab_size, embedding_matrix)\n",
        "print(\"Perplejidad del modelo:\", perplexity)"
      ],
      "metadata": {
        "id": "UYiANX0np3Z0"
      },
      "execution_count": null,
      "outputs": []
    },
    {
      "cell_type": "markdown",
      "source": [
        "### c) GRU"
      ],
      "metadata": {
        "id": "d2m8MjV71EQC"
      }
    },
    {
      "cell_type": "code",
      "source": [
        "value_dim=100\n",
        "\n",
        "input_layer = Input(shape=(max_len,))\n",
        "embedding_layer = Embedding(vocab_size, embed_dim, input_length=max_len, trainable=False)(input_layer)\n",
        "#GRU\n",
        "gru_out = Bidirectional(GRU(value_dim, return_sequences=True, activation=\"tanh\"), merge_mode=\"sum\")(embedding_layer)\n",
        "\n",
        "ulog_attention = Dense(1, activation=\"linear\")(gru_out)\n",
        "attention = Activation(softMaxOverTime)(ulog_attention)\n",
        "repeated_attention = TimeDistributed(RepeatVector(value_dim))(attention)\n",
        "repeated_attention = Reshape([max_len, value_dim])(repeated_attention)\n",
        "weighted_embeddings = Multiply()([repeated_attention, gru_out])\n",
        "embedding_sum = Lambda(lambda x: K.sum(x, axis=1))(weighted_embeddings)\n",
        "\n",
        "dense1 = Dense(256, activation='relu')(embedding_sum)\n",
        "dense2 = Dense(128, activation='relu')(dense1)\n",
        "dense_out = Dense(vocab_size, activation='softmax')(dense2)              #Elige entre las 3k palabras posibles\n",
        "\n",
        "modelGRU = Model(input_layer, dense2)\n",
        "adam = optimizers.Adam(learning_rate=0.001)\n",
        "modelGRU.compile(loss='categorical_crossentropy',\n",
        "                 optimizer=adam,\n",
        "                 metrics=['categorical_crossentropy'])"
      ],
      "metadata": {
        "id": "BGUG6BDx3v2y"
      },
      "execution_count": null,
      "outputs": []
    },
    {
      "cell_type": "code",
      "source": [
        "early_cb = callbacks.EarlyStopping(monitor='loss', min_delta=0.01, patience=5,\n",
        "                                   start_from_epoch=12)\n",
        "\n",
        "plateu_cb = tf.keras.callbacks.ReduceLROnPlateau(monitor='loss', factor=0.05,\n",
        "                                          patience=3)\n",
        "hist = modelGRU.fit(x_sequences,y_sequences,batch_size=256,epochs=40,validation_split=0.1, callbacks = [early_cb, plateau_cb])"
      ],
      "metadata": {
        "id": "WEiqjgD1ZOpv"
      },
      "execution_count": null,
      "outputs": []
    },
    {
      "cell_type": "code",
      "source": [
        "perplexity = perplexity(modelGRU, x_sequences[:100], y_sequences[:100], vocab_size, embedding_matrix)\n",
        "print(\"Perplejidad del modelo:\", perplexity)"
      ],
      "metadata": {
        "id": "Rh_ytLjBp497"
      },
      "execution_count": null,
      "outputs": []
    },
    {
      "cell_type": "markdown",
      "source": [
        "# Generación\n",
        "Se además de evaluar la metrica de perplejidad se probaron las capacidades de generacion de los 3 modelos entrenados. En este caso se probaron 2 funciones distintas, por un lado se tomó una implementación para el algoritmo \"Greedy Search\" y por otro \"Beam Search\".\n",
        "\n",
        "Una fuente que resultó útil para entenderlos fue: https://medium.com/@jessica_lopez/understanding-greedy-search-and-beam-search-98c1e3cd821d\n",
        "\n",
        "Las implementaciones presentadas en este trabajo fueron tomadas del grupo Basili-Wahle, quienes no solo accedieron a su uso sino que tambien colaboraron a su vez en entender algunas cuestiones particulares a las mismas."
      ],
      "metadata": {
        "id": "G-aWG1YX4B_U"
      }
    },
    {
      "cell_type": "markdown",
      "source": [
        "#Greedy Search con Arg-Max"
      ],
      "metadata": {
        "id": "qcM3lotldfV-"
      }
    },
    {
      "cell_type": "code",
      "source": [
        "def greedy(seed_phrase, token, model, pred_len=25, max_len=500, stopper=\"> sep\"):\n",
        "  stop_token = token.texts_to_sequences([stopper])[0]\n",
        "  seed_text = token.texts_to_sequences([seed_phrase])[0]\n",
        "  pred_arr = []\n",
        "\n",
        "  for _ in range(pred_len):\n",
        "    # Concatenamos y paddeamos\n",
        "    aux = np.concatenate((seed_text, pred_arr))\n",
        "    padded = pad_sequences([aux], maxlen=max_len)\n",
        "\n",
        "    # Predecimos\n",
        "    pred_idx = np.argmax(model.predict(padded, verbose=0)[0])\n",
        "\n",
        "    if pred_idx in stop_token:  # La prediccion hasta un stop_char\n",
        "      break\n",
        "\n",
        "    pred_arr = np.append(pred_arr, [int(pred_idx)])\n",
        "\n",
        "\n",
        "  return token.sequences_to_texts([pred_arr])[0]"
      ],
      "metadata": {
        "id": "r_OA_O2o04ji"
      },
      "execution_count": null,
      "outputs": []
    },
    {
      "cell_type": "code",
      "source": [
        "seed= \"< el siguiente\"\n",
        "prediction = greedy(seed, token, model, pred_len=25)\n",
        "print(seed, prediction)"
      ],
      "metadata": {
        "id": "fZ156eHndttN"
      },
      "execution_count": null,
      "outputs": []
    },
    {
      "cell_type": "markdown",
      "source": [
        "#Greedy Search + Temperatura"
      ],
      "metadata": {
        "id": "3ywLKXBFdwcF"
      }
    },
    {
      "cell_type": "code",
      "source": [
        "import random\n",
        "\n",
        "def greedyTemp(seed_phrase, token, model, temp=1, pred_len=25, max_len=500, stopper=[\">\", \"sep\"]):\n",
        "  stop_token = token.texts_to_sequences(stopper)[0]\n",
        "  seed_text = token.texts_to_sequences([seed_phrase])[0]\n",
        "  pred_arr = []\n",
        "\n",
        "  for _ in range(pred_len):\n",
        "    # Concatenamos y paddeamos\n",
        "    aux = np.concatenate((seed_text, pred_arr))\n",
        "    padded = pad_sequences([aux], maxlen=max_len)\n",
        "\n",
        "    # Predecimos considerando temperatura y elegimos de forma semialeatoria\n",
        "    probs = (model.predict(padded, verbose=0)[0])**(1/temp)\n",
        "    pred_idx = random.choices(range(len(probs)), weights=probs, k=1)\n",
        "\n",
        "    if pred_idx in stop_token:\n",
        "      break\n",
        "\n",
        "    # Agregamos el nuevo token a la prediccion\n",
        "    pred_arr = np.append(pred_arr, [pred_idx])\n",
        "\n",
        "  return token.sequences_to_texts([pred_arr])[0]"
      ],
      "metadata": {
        "id": "KYabpkGidxod"
      },
      "execution_count": null,
      "outputs": []
    },
    {
      "cell_type": "code",
      "source": [
        "seed= \"< el siguiente\"\n",
        "prediction = greedyTemp(seed, token, model, temp=1.25, pred_len=25)\n",
        "print(seed, prediction)\n"
      ],
      "metadata": {
        "id": "vd9seoojd1_G"
      },
      "execution_count": null,
      "outputs": []
    },
    {
      "cell_type": "markdown",
      "source": [
        "#Stochastic Beam Search"
      ],
      "metadata": {
        "id": "GaPeQUw9d4dl"
      }
    },
    {
      "cell_type": "code",
      "source": [
        "import numpy as np\n",
        "import random\n",
        "\n",
        "def stochastic_beam_search(seed_phrase, token, n_beam=3, temp=1.0, pred_len=20):\n",
        "    seqs = token.texts_to_sequences([seed_phrase])\n",
        "    probs = [1]\n",
        "\n",
        "    for paso in range(pred_len):\n",
        "        new_seqs = []\n",
        "        new_probs = []\n",
        "\n",
        "        for i in range(len(seqs)):\n",
        "            padded = pad_sequences([seqs[i]], maxlen=max_len)\n",
        "            # Generar prediccion y aplicar temp\n",
        "            pred_probs = (model.predict(padded, verbose=0)[0])**(1/temp)\n",
        "\n",
        "            # Elegir N opciones en base a sus probs\n",
        "            pred_idx = random.choices(range(len(pred_probs)), weights=pred_probs, k=n_beam)\n",
        "\n",
        "            # Appendear token predichos y sus probs calculadas\n",
        "            for idx in pred_idx:\n",
        "              new_seqs.append(seqs[i]+[idx])\n",
        "              new_probs.append(probs[i]*pred_probs[idx])\n",
        "\n",
        "        # Actualizamos\n",
        "        seqs = new_seqs\n",
        "        probs = new_probs\n",
        "\n",
        "    likely_idx = probs.index(max(probs)) # Me quedo con la opcion mas probable\n",
        "\n",
        "    #Devuelvo la prediccion (sin la seed) en formato texto\n",
        "    return token.sequences_to_texts([seqs[likely_idx]])[0]"
      ],
      "metadata": {
        "id": "zdPjBSRQd-Om"
      },
      "execution_count": null,
      "outputs": []
    },
    {
      "cell_type": "code",
      "source": [
        "\n",
        "seed= \"< el siguiente\"\n",
        "prediction = stochastic_beam_search(seed, token, n_beam=3, temp=1, pred_len=5)\n",
        "print(prediction)"
      ],
      "metadata": {
        "id": "4xwt-eq4eBjW"
      },
      "execution_count": null,
      "outputs": []
    },
    {
      "cell_type": "code",
      "source": [
        "\n",
        "seed= \"< el siguiente\"\n",
        "prediction = stochastic_beam_search(seed, token, n_beam=3, temp=2, pred_len=5)      #Variamos la temperatura\n",
        "print(prediction)"
      ],
      "metadata": {
        "id": "QyIhDnWreB52"
      },
      "execution_count": null,
      "outputs": []
    }
  ]
}